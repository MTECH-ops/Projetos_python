{
  "nbformat": 4,
  "nbformat_minor": 0,
  "metadata": {
    "colab": {
      "provenance": []
    },
    "kernelspec": {
      "name": "python3",
      "display_name": "Python 3"
    },
    "language_info": {
      "name": "python"
    }
  },
  "cells": [
    {
      "cell_type": "code",
      "source": [
        "'acao se verdadeiro' if teste_logico else 'acao se falso'"
      ],
      "metadata": {
        "id": "cpACppZO5Hyf"
      },
      "execution_count": null,
      "outputs": []
    },
    {
      "cell_type": "code",
      "execution_count": null,
      "metadata": {
        "id": "Pr2V5Wyj5ESF"
      },
      "outputs": [],
      "source": [
        "numero = 5\n",
        "if numero % 2 == 0:\n",
        "    print('Par')\n",
        "else:\n",
        "    print('[Impar]')"
      ]
    },
    {
      "cell_type": "code",
      "source": [
        "numero = 10\n",
        "print(2 * numero) if numero % 2 == 0 else print(3 * numero - 1)"
      ],
      "metadata": {
        "colab": {
          "base_uri": "https://localhost:8080/"
        },
        "id": "UY7EUSox5H1O",
        "outputId": "5cd58786-cb6e-4b29-a1dd-e8a3dad3069b"
      },
      "execution_count": 12,
      "outputs": [
        {
          "output_type": "stream",
          "name": "stdout",
          "text": [
            "20\n"
          ]
        }
      ]
    },
    {
      "cell_type": "code",
      "source": [
        "lista = [3, 5, 2, 0, -9]\n",
        "\n",
        "resultado = 2 * lista if len(lista) % 2 == 0 else lista.pop()"
      ],
      "metadata": {
        "id": "7NliUN1G5H3u"
      },
      "execution_count": 13,
      "outputs": []
    },
    {
      "cell_type": "code",
      "source": [
        "lista = [3, 5, 2, 0, -9]\n",
        "if len(lista) % 2 == 0:\n",
        "    print(2 * lista)\n",
        "else:\n",
        "    print(lista.pop())"
      ],
      "metadata": {
        "colab": {
          "base_uri": "https://localhost:8080/"
        },
        "id": "COgfWXK-5H6O",
        "outputId": "e1827d33-886d-4103-e280-5962b99de461"
      },
      "execution_count": 9,
      "outputs": [
        {
          "output_type": "stream",
          "name": "stdout",
          "text": [
            "-9\n"
          ]
        }
      ]
    },
    {
      "cell_type": "code",
      "source": [
        "len(lista)"
      ],
      "metadata": {
        "colab": {
          "base_uri": "https://localhost:8080/"
        },
        "id": "mQHeQF_25H8m",
        "outputId": "cfd5a1a6-c5e5-4b4a-96d8-7322170e6108"
      },
      "execution_count": 4,
      "outputs": [
        {
          "output_type": "execute_result",
          "data": {
            "text/plain": [
              "6"
            ]
          },
          "metadata": {},
          "execution_count": 4
        }
      ]
    },
    {
      "cell_type": "code",
      "source": [
        "resultado"
      ],
      "metadata": {
        "colab": {
          "base_uri": "https://localhost:8080/"
        },
        "id": "v6s7JBdA5H-_",
        "outputId": "4881dcf2-8a67-48c6-d360-539bdec84a4e"
      },
      "execution_count": 14,
      "outputs": [
        {
          "output_type": "execute_result",
          "data": {
            "text/plain": [
              "-9"
            ]
          },
          "metadata": {},
          "execution_count": 14
        }
      ]
    },
    {
      "cell_type": "code",
      "source": [
        "positivos = 0\n",
        "negativos = 0\n",
        "\n",
        "numero = 12\n",
        "\n",
        "positivos = positivos + 1 if numero > 0 else negativos = negativos + 1"
      ],
      "metadata": {
        "colab": {
          "base_uri": "https://localhost:8080/",
          "height": 106
        },
        "id": "DOxIu0eP8HE3",
        "outputId": "70365e23-c1c3-48b2-b8a7-f7fd9a0a78b5"
      },
      "execution_count": 17,
      "outputs": [
        {
          "output_type": "error",
          "ename": "SyntaxError",
          "evalue": "invalid syntax. Maybe you meant '==' or ':=' instead of '='? (<ipython-input-17-4c1c643a7c40>, line 6)",
          "traceback": [
            "\u001b[0;36m  File \u001b[0;32m\"<ipython-input-17-4c1c643a7c40>\"\u001b[0;36m, line \u001b[0;32m6\u001b[0m\n\u001b[0;31m    positivos = positivos + 1 if numero > 0 else negativos = negativos + 1\u001b[0m\n\u001b[0m    ^\u001b[0m\n\u001b[0;31mSyntaxError\u001b[0m\u001b[0;31m:\u001b[0m invalid syntax. Maybe you meant '==' or ':=' instead of '='?\n"
          ]
        }
      ]
    },
    {
      "cell_type": "code",
      "source": [
        "# Operador morsa (walrus operator)\n",
        ":=\n"
      ],
      "metadata": {
        "id": "Gsqg1i6C5IBW"
      },
      "execution_count": null,
      "outputs": []
    },
    {
      "cell_type": "code",
      "source": [
        "positivos = 0\n",
        "negativos = 0\n",
        "\n",
        "numero = 12\n",
        "\n",
        "(positivos := positivos + 1) if numero > 0 else (negativos := negativos + 1)"
      ],
      "metadata": {
        "colab": {
          "base_uri": "https://localhost:8080/"
        },
        "id": "xt1eEWid8kTI",
        "outputId": "08c9bc12-5297-49bd-ad43-a2bf21b693bb"
      },
      "execution_count": 18,
      "outputs": [
        {
          "output_type": "execute_result",
          "data": {
            "text/plain": [
              "1"
            ]
          },
          "metadata": {},
          "execution_count": 18
        }
      ]
    },
    {
      "cell_type": "code",
      "source": [
        "positivos, negativos"
      ],
      "metadata": {
        "colab": {
          "base_uri": "https://localhost:8080/"
        },
        "id": "jT5JbllP8kWA",
        "outputId": "bc4cd0b4-9265-4ec6-9118-59928539196b"
      },
      "execution_count": 19,
      "outputs": [
        {
          "output_type": "execute_result",
          "data": {
            "text/plain": [
              "(1, 0)"
            ]
          },
          "metadata": {},
          "execution_count": 19
        }
      ]
    },
    {
      "cell_type": "code",
      "source": [
        "# Truthy/Falsy values\n",
        "# Valores avaliados como falso\n",
        "inteira = 0\n",
        "real = 0.0\n",
        "string = ''\n",
        "lista = []\n"
      ],
      "metadata": {
        "id": "0vnT-Y9m8kYn"
      },
      "execution_count": 20,
      "outputs": []
    },
    {
      "cell_type": "code",
      "source": [
        "positivos = 0\n",
        "negativos = 0\n",
        "cont = 0\n",
        "while (numero := int(input('Digite um número: '))):\n",
        "    cont += 1\n",
        "    (positivos := positivos + 1) if numero > 0 else (negativos := negativos + 1)\n",
        "    if cont == 2:\n",
        "        break\n",
        "else:\n",
        "    print('Saí do while')\n",
        "\n",
        "positivos, negativos"
      ],
      "metadata": {
        "colab": {
          "base_uri": "https://localhost:8080/"
        },
        "id": "Vh2I8h3C9QLS",
        "outputId": "d42cc369-981c-4309-ce12-080e6c86bb3c"
      },
      "execution_count": 27,
      "outputs": [
        {
          "output_type": "stream",
          "name": "stdout",
          "text": [
            "Digite um número: 1\n",
            "Digite um número: 2\n",
            "Digite um número: -9\n",
            "Digite um número: 0\n",
            "Saí do while\n"
          ]
        },
        {
          "output_type": "execute_result",
          "data": {
            "text/plain": [
              "(2, 1)"
            ]
          },
          "metadata": {},
          "execution_count": 27
        }
      ]
    },
    {
      "cell_type": "code",
      "source": [
        "(positivos := positivos + 1)"
      ],
      "metadata": {
        "colab": {
          "base_uri": "https://localhost:8080/"
        },
        "id": "K9ZdT9vx-fK7",
        "outputId": "1a7692c1-8803-45d6-8b5f-9eb76b822088"
      },
      "execution_count": 26,
      "outputs": [
        {
          "output_type": "execute_result",
          "data": {
            "text/plain": [
              "4"
            ]
          },
          "metadata": {},
          "execution_count": 26
        }
      ]
    },
    {
      "cell_type": "code",
      "source": [
        "positivos"
      ],
      "metadata": {
        "colab": {
          "base_uri": "https://localhost:8080/"
        },
        "id": "7Q1wM1gJ-fNs",
        "outputId": "3557bcbb-4268-4220-b084-f913e230057a"
      },
      "execution_count": 23,
      "outputs": [
        {
          "output_type": "execute_result",
          "data": {
            "text/plain": [
              "3"
            ]
          },
          "metadata": {},
          "execution_count": 23
        }
      ]
    },
    {
      "cell_type": "code",
      "source": [
        "lista = ['']\n",
        "\n",
        "if lista:\n",
        "    print('Tenho elemnetos')\n",
        "else:\n",
        "    print('Vazia')"
      ],
      "metadata": {
        "colab": {
          "base_uri": "https://localhost:8080/"
        },
        "id": "tWXOcITJ-fQL",
        "outputId": "f2f080a2-9085-4daf-8ce3-943f849e790e"
      },
      "execution_count": 35,
      "outputs": [
        {
          "output_type": "stream",
          "name": "stdout",
          "text": [
            "Tenho elemnetos\n"
          ]
        }
      ]
    },
    {
      "cell_type": "code",
      "source": [
        "lista = []\n",
        "\n",
        "print('Tenho elementos') if lista else print('Vazia')"
      ],
      "metadata": {
        "colab": {
          "base_uri": "https://localhost:8080/"
        },
        "id": "DGREld13AyMl",
        "outputId": "05c657b0-f5a9-4673-98cf-685c0acc2603"
      },
      "execution_count": 38,
      "outputs": [
        {
          "output_type": "stream",
          "name": "stdout",
          "text": [
            "Vazia\n"
          ]
        }
      ]
    },
    {
      "cell_type": "code",
      "source": [
        "string = ''\n",
        "\n",
        "print('Tenho elementos') if string else print('Vazia')\n"
      ],
      "metadata": {
        "colab": {
          "base_uri": "https://localhost:8080/"
        },
        "id": "By88uyAFAyPe",
        "outputId": "bf1383f9-399b-46f6-9f5a-90c3c68aee60"
      },
      "execution_count": 43,
      "outputs": [
        {
          "output_type": "stream",
          "name": "stdout",
          "text": [
            "Tenho elementos\n"
          ]
        }
      ]
    },
    {
      "cell_type": "code",
      "source": [
        "# O papel da palavra reservada in\n",
        "'Zulu' in ['Zulus', 'Pedro'], 'A' in 'CALA BOCA'"
      ],
      "metadata": {
        "colab": {
          "base_uri": "https://localhost:8080/"
        },
        "id": "KGqmJx-4AyR_",
        "outputId": "aa7c2ab5-47d3-4d8e-c857-76a8ea100548"
      },
      "execution_count": 51,
      "outputs": [
        {
          "output_type": "execute_result",
          "data": {
            "text/plain": [
              "(False, True)"
            ]
          },
          "metadata": {},
          "execution_count": 51
        }
      ]
    },
    {
      "cell_type": "code",
      "source": [
        "# not in\n",
        "'Zulu' not in ['Zulus', 'Pedro']"
      ],
      "metadata": {
        "colab": {
          "base_uri": "https://localhost:8080/"
        },
        "id": "heJxFJnFCwyP",
        "outputId": "8d7cbe9a-331d-410a-dc17-7e18f0006e32"
      },
      "execution_count": 52,
      "outputs": [
        {
          "output_type": "execute_result",
          "data": {
            "text/plain": [
              "True"
            ]
          },
          "metadata": {},
          "execution_count": 52
        }
      ]
    },
    {
      "cell_type": "code",
      "source": [
        "nomes = ['Maria', 'João']\n",
        "nova = []\n",
        "for nome in nomes:\n",
        "    nova.append(nome.lower())\n",
        "nova"
      ],
      "metadata": {
        "colab": {
          "base_uri": "https://localhost:8080/"
        },
        "id": "oKiJiL_0AyUu",
        "outputId": "70b1a0b1-6802-405b-e612-30fe85bb0e1a"
      },
      "execution_count": 54,
      "outputs": [
        {
          "output_type": "execute_result",
          "data": {
            "text/plain": [
              "['maria', 'joão']"
            ]
          },
          "metadata": {},
          "execution_count": 54
        }
      ]
    },
    {
      "cell_type": "code",
      "source": [
        "# List comprehension (compreensão de lista)\n",
        "\n",
        "# ['ação com o elemento' for elem in iterável]\n",
        "\n",
        "nomes = ['Maria', 'João']\n",
        "nova = [nome.lower() for nome in nomes]\n",
        "\n",
        "nova"
      ],
      "metadata": {
        "colab": {
          "base_uri": "https://localhost:8080/"
        },
        "id": "qDVx3OuKAyXO",
        "outputId": "bd494a0e-e33e-4b45-a197-a1e372385c49"
      },
      "execution_count": 61,
      "outputs": [
        {
          "output_type": "execute_result",
          "data": {
            "text/plain": [
              "['maria', 'joão']"
            ]
          },
          "metadata": {},
          "execution_count": 61
        }
      ]
    },
    {
      "cell_type": "code",
      "source": [
        "(PODE := [nome.lower() for nome in nomes])\n"
      ],
      "metadata": {
        "colab": {
          "base_uri": "https://localhost:8080/"
        },
        "id": "hFc_GNL2-fTE",
        "outputId": "00ecac13-41d3-48af-9251-232598ca19f3"
      },
      "execution_count": 59,
      "outputs": [
        {
          "output_type": "execute_result",
          "data": {
            "text/plain": [
              "['maria', 'joão']"
            ]
          },
          "metadata": {},
          "execution_count": 59
        }
      ]
    },
    {
      "cell_type": "code",
      "source": [
        "PODE"
      ],
      "metadata": {
        "colab": {
          "base_uri": "https://localhost:8080/"
        },
        "id": "UkzoN5p69QOr",
        "outputId": "e47052af-2155-47d8-dd06-13ef0bf8381a"
      },
      "execution_count": 58,
      "outputs": [
        {
          "output_type": "execute_result",
          "data": {
            "text/plain": [
              "['maria', 'joão']"
            ]
          },
          "metadata": {},
          "execution_count": 58
        }
      ]
    },
    {
      "cell_type": "code",
      "source": [
        "!python --version"
      ],
      "metadata": {
        "colab": {
          "base_uri": "https://localhost:8080/"
        },
        "id": "3LgwP9bn8kbY",
        "outputId": "aee01b03-4ab4-4bfe-f7d5-fbcf1ea26c68"
      },
      "execution_count": 62,
      "outputs": [
        {
          "output_type": "stream",
          "name": "stdout",
          "text": [
            "Python 3.11.12\n"
          ]
        }
      ]
    },
    {
      "cell_type": "code",
      "source": [
        "f'casa 'casa''"
      ],
      "metadata": {
        "id": "5SedsFDL8kdy"
      },
      "execution_count": null,
      "outputs": []
    },
    {
      "cell_type": "code",
      "source": [
        "# Switch case (outras linguagens)\n",
        "# Match case (Python)\n",
        "mes = 4\n",
        "match mes:\n",
        "    case 1:\n",
        "        print('Janeiro')\n",
        "    case 1:\n",
        "        print('Fevereiro')\n",
        "    case 3:\n",
        "        print('Março')\n",
        "    case _: # Usado quando não se quer colocar uma variável\n",
        "        print('Outros meses')"
      ],
      "metadata": {
        "id": "g_hK0zYe8kgY"
      },
      "execution_count": 77,
      "outputs": []
    },
    {
      "cell_type": "code",
      "source": [
        "mes = 12\n",
        "if mes == 1:\n",
        "    print('Janeiro')\n",
        "elif mes == 2:\n",
        "    print('Fevereiro')\n",
        "elif mes == 3:\n",
        "    print('Março')\n",
        "else:\n",
        "    print('Outros meses')"
      ],
      "metadata": {
        "colab": {
          "base_uri": "https://localhost:8080/"
        },
        "id": "C3NUPWvPHw9K",
        "outputId": "13efe77e-5552-49d8-946c-d2088c0a714d"
      },
      "execution_count": 73,
      "outputs": [
        {
          "output_type": "stream",
          "name": "stdout",
          "text": [
            "Outros meses\n"
          ]
        }
      ]
    },
    {
      "cell_type": "code",
      "source": [
        "numeros = [2, 3, 5]\n",
        "\n",
        "sum(numeros), max(numeros), min(numeros)"
      ],
      "metadata": {
        "colab": {
          "base_uri": "https://localhost:8080/"
        },
        "id": "BYM0mH0pHw5p",
        "outputId": "7c58d57e-5902-4153-b4a6-37315f9ba8ca"
      },
      "execution_count": 78,
      "outputs": [
        {
          "output_type": "execute_result",
          "data": {
            "text/plain": [
              "(10, 5, 2)"
            ]
          },
          "metadata": {},
          "execution_count": 78
        }
      ]
    },
    {
      "cell_type": "code",
      "source": [
        "x = 3.14159\n",
        "\n",
        "print(f'{x:.3f}')\n",
        "\n",
        "(y := round(x, 3))"
      ],
      "metadata": {
        "colab": {
          "base_uri": "https://localhost:8080/"
        },
        "id": "0rsz-oqHHw0S",
        "outputId": "f4e4b21c-f0fd-4386-e2c6-84f6e276c56e"
      },
      "execution_count": 85,
      "outputs": [
        {
          "output_type": "stream",
          "name": "stdout",
          "text": [
            "3.142\n"
          ]
        },
        {
          "output_type": "execute_result",
          "data": {
            "text/plain": [
              "3.142"
            ]
          },
          "metadata": {},
          "execution_count": 85
        }
      ]
    },
    {
      "cell_type": "code",
      "source": [
        "# Funções\n",
        "\n",
        "def nome(arg1, arg2., ...):\n",
        "    código\n",
        "    return ?"
      ],
      "metadata": {
        "id": "geCWNWfEHwxJ"
      },
      "execution_count": null,
      "outputs": []
    },
    {
      "cell_type": "code",
      "source": [
        "# Sem argumento e sem retorno\n",
        "\n",
        "def cumprimenta():\n",
        "    print(\"Boa tarde!\")"
      ],
      "metadata": {
        "id": "H-4D_uBMHwuB"
      },
      "execution_count": 88,
      "outputs": []
    },
    {
      "cell_type": "code",
      "source": [
        "# Chamando uma função\n",
        "\n",
        "cumprimenta()"
      ],
      "metadata": {
        "colab": {
          "base_uri": "https://localhost:8080/"
        },
        "id": "-0WMxISa8kio",
        "outputId": "7817da9f-4e31-4222-ab1a-32cd91adf64a"
      },
      "execution_count": 90,
      "outputs": [
        {
          "output_type": "stream",
          "name": "stdout",
          "text": [
            "Boa tarde!\n"
          ]
        }
      ]
    },
    {
      "cell_type": "code",
      "source": [
        "# Com argumento e sem retorno\n",
        "def cumprimenta2(nome):\n",
        "    print(f'Boa tarde, {nome}!')"
      ],
      "metadata": {
        "id": "GAeDxJcB8klg"
      },
      "execution_count": 91,
      "outputs": []
    },
    {
      "cell_type": "code",
      "source": [
        "cumprimenta2('professor') # Pode por qualquer valor inclusive atrasadas kkkkk"
      ],
      "metadata": {
        "colab": {
          "base_uri": "https://localhost:8080/"
        },
        "id": "3gjA51glRtW5",
        "outputId": "477c568b-a3d0-49dc-e2e6-ad11275c6a80"
      },
      "execution_count": 95,
      "outputs": [
        {
          "output_type": "stream",
          "name": "stdout",
          "text": [
            "Boa tarde, professor!\n"
          ]
        }
      ]
    },
    {
      "cell_type": "code",
      "source": [
        "# Sem argumento e com retorno\n",
        "def pi():\n",
        "    return 3.14159"
      ],
      "metadata": {
        "id": "RFIEfNeXRtUg"
      },
      "execution_count": 96,
      "outputs": []
    },
    {
      "cell_type": "code",
      "source": [
        "pi()"
      ],
      "metadata": {
        "colab": {
          "base_uri": "https://localhost:8080/"
        },
        "id": "ZideP5l5RtR4",
        "outputId": "793b1253-50ad-4d06-8f96-5a2e12ac97d4"
      },
      "execution_count": 97,
      "outputs": [
        {
          "output_type": "execute_result",
          "data": {
            "text/plain": [
              "3.14159"
            ]
          },
          "metadata": {},
          "execution_count": 97
        }
      ]
    },
    {
      "cell_type": "code",
      "source": [
        "# Com argumento e com retorno\n",
        "\n",
        "def raiz_eq_1o_grau(a, b, c):\n",
        "    return (c - b) / a"
      ],
      "metadata": {
        "id": "sO8wDUOJRtO4"
      },
      "execution_count": 123,
      "outputs": []
    },
    {
      "cell_type": "code",
      "source": [
        "'2x + 4 = 9'\n",
        "raiz_eq_1o_grau(2, 4, 9)"
      ],
      "metadata": {
        "colab": {
          "base_uri": "https://localhost:8080/"
        },
        "id": "Thl1oYegRtMa",
        "outputId": "898a8135-da27-4e41-d1ce-9c897b0ddfd8"
      },
      "execution_count": 124,
      "outputs": [
        {
          "output_type": "execute_result",
          "data": {
            "text/plain": [
              "2.5"
            ]
          },
          "metadata": {},
          "execution_count": 124
        }
      ]
    },
    {
      "cell_type": "code",
      "source": [
        "def mostra_eq_1o_grau(a, b, c):\n",
        "    A, B, sinal = a, b, ''\n",
        "    if a == 0:\n",
        "        print('Não é uma equação de 1o grau!')\n",
        "    else:\n",
        "        if a == 1:\n",
        "            A = ''\n",
        "        elif a == -1:\n",
        "            A = '-'\n",
        "\n",
        "        if b > 0:\n",
        "            sinal = ' + '\n",
        "        elif b < 0:\n",
        "            B = abs(b)\n",
        "            sinal = ' - '\n",
        "        else:\n",
        "            sinal = ''\n",
        "            B = ''\n",
        "\n",
        "        print(f'{A}x{sinal}{B} = {c}')\n",
        "        return A, B, c, sinal\n",
        "\n",
        "\n",
        "mostra_eq_1o_grau(1, 0, 9)"
      ],
      "metadata": {
        "colab": {
          "base_uri": "https://localhost:8080/"
        },
        "id": "L3rRynBmRtKI",
        "outputId": "11e071cb-0698-42bd-d802-55b07f22535e"
      },
      "execution_count": 158,
      "outputs": [
        {
          "output_type": "stream",
          "name": "stdout",
          "text": [
            "x = 9\n"
          ]
        },
        {
          "output_type": "execute_result",
          "data": {
            "text/plain": [
              "('', '', 9, '')"
            ]
          },
          "metadata": {},
          "execution_count": 158
        }
      ]
    },
    {
      "cell_type": "code",
      "source": [
        "def mostra_eq_1o_grau_1(a, b, c):\n",
        "    A, B, sinal = a, b, ''\n",
        "    if a == 0:\n",
        "        print('Não é uma equação de 1o grau!')\n",
        "    else:\n",
        "        if a == 1:\n",
        "            A = ''\n",
        "        elif a == -1:\n",
        "            A = '-'\n",
        "\n",
        "        if b > 0:\n",
        "            sinal = ' + '\n",
        "        elif b < 0:\n",
        "            B = abs(b)\n",
        "            sinal = ' - '\n",
        "        else:\n",
        "            sinal = ''\n",
        "            B = ''\n",
        "\n",
        "        print(f'{A}x{sinal}{B} = {c}')\n",
        "\n",
        "\n",
        "mostra_eq_1o_grau(1, 0, 9)"
      ],
      "metadata": {
        "colab": {
          "base_uri": "https://localhost:8080/"
        },
        "id": "AOJ4ENvMcjTH",
        "outputId": "c620169c-4b43-402c-e3df-6feb835a79b6"
      },
      "execution_count": 174,
      "outputs": [
        {
          "output_type": "stream",
          "name": "stdout",
          "text": [
            "x = 9\n"
          ]
        },
        {
          "output_type": "execute_result",
          "data": {
            "text/plain": [
              "('', '', 9, '')"
            ]
          },
          "metadata": {},
          "execution_count": 174
        }
      ]
    },
    {
      "cell_type": "code",
      "source": [
        "'-12x + 4 = 9'.split()\n",
        "a, b, c = -1, 4, 9\n",
        "mostra_eq_1o_grau(a, b, c)\n",
        "raiz_eq_1o_grau(-12, 4, 9)"
      ],
      "metadata": {
        "colab": {
          "base_uri": "https://localhost:8080/"
        },
        "id": "DwN6lJkgRtHp",
        "outputId": "bd73bbb9-f48f-467a-8167-50c606010d93"
      },
      "execution_count": 132,
      "outputs": [
        {
          "output_type": "stream",
          "name": "stdout",
          "text": [
            "-x + 4 = 9\n"
          ]
        },
        {
          "output_type": "execute_result",
          "data": {
            "text/plain": [
              "-0.4166666666666667"
            ]
          },
          "metadata": {},
          "execution_count": 132
        }
      ]
    },
    {
      "cell_type": "code",
      "source": [
        "def sinal(a, b, c):\n",
        "    if a > 0 or b > 0 or c > 0:\n",
        "        sinal = ' + '\n",
        "        return sinal\n",
        "    else:\n",
        "        sinal = ' - '\n",
        "        return sinal"
      ],
      "metadata": {
        "id": "u-wn4DJwZ0Wo"
      },
      "execution_count": 193,
      "outputs": []
    },
    {
      "cell_type": "code",
      "source": [
        "# Meu top\n",
        "\n",
        "a, b, c = 2, 2, -10\n",
        "\n",
        "def equacao_1o_grau(a, b, c):\n",
        "    A, B, C, sinal = a, b, c, ''\n",
        "    if a == 0:\n",
        "        print('Não é uma equação de 1o grau!')\n",
        "    else:\n",
        "        if a == 1:\n",
        "            A = ''\n",
        "            (sinal := ' + ') if b > 0 else (sinal := ' - ')\n",
        "            print(f'{A}x{sinal}{abs(B)} = {c}')\n",
        "            C = c - abs(b)\n",
        "            B = ''\n",
        "            print(f'{A}x = {B}{C}')\n",
        "            print(f'x = {C}/{a}')\n",
        "            e = C / a\n",
        "            print(f'x = {e}')\n",
        "        elif a == -1:\n",
        "            A = '-'\n",
        "            (sinal := ' + ') if b > 0 else (sinal := ' - ')\n",
        "            print(f'{A}x{sinal}{abs(B)} = {c}')\n",
        "            C = c - abs(b)\n",
        "            B = ''\n",
        "            print(f'{A}x = {B}{C}')\n",
        "            print(f'x = {C}/{a}')\n",
        "            e = C / a\n",
        "            print(f'x = {e}')\n",
        "        else:\n",
        "            if True:\n",
        "                sinal = ' + '\n",
        "                mostra_eq_1o_grau_1(a, b, c)\n",
        "                match sinal:\n",
        "                    case ' + ':\n",
        "                        sinal = ' - '\n",
        "                print(f'{A}x = {C}{sinal}{abs(B)}')\n",
        "                C = c - abs(b)\n",
        "                B = ''\n",
        "                print(f'{A}x = {B}{C}')\n",
        "                print(f'x = {C}/{A}')\n",
        "                e = C / A\n",
        "                print(f'x = {e}')\n",
        "            elif b < 0:\n",
        "                B = abs(b)\n",
        "                sinal = ' - '\n",
        "            else:\n",
        "                sinal = ''\n",
        "                B = ''\n",
        "                print(f'{A}x{sinal}{B} = {c}')\n",
        "                print(f'x = {C}/{A}')\n",
        "                e = C / A\n",
        "                print(f'x = {e}')\n",
        "\n",
        "equacao_1o_grau(a, b, c)"
      ],
      "metadata": {
        "colab": {
          "base_uri": "https://localhost:8080/"
        },
        "id": "27z9oCphRtFA",
        "outputId": "e4ed21fc-5688-4884-b29f-f9910922b131"
      },
      "execution_count": 297,
      "outputs": [
        {
          "output_type": "stream",
          "name": "stdout",
          "text": [
            "2x + 2 = -10\n",
            "2x = -10 - 2\n",
            "2x = -12\n",
            "x = -12/2\n",
            "x = -6.0\n"
          ]
        }
      ]
    },
    {
      "cell_type": "code",
      "source": [
        "# Meu top (com input)\n",
        "\n",
        "a, b, c = int(input('Digite um valor para a: ')), int(input('Digite um valor para b: ')), int(input('Digite um valor para c: '))\n",
        "\n",
        "def equacao_1o_grau(a, b, c):\n",
        "    A, B, C, sinal = a, b, c, ''\n",
        "    if a == 0:\n",
        "        print('Não é uma equação de 1o grau!')\n",
        "    else:\n",
        "        if a == 1:\n",
        "            A = ''\n",
        "            (sinal := ' + ') if b > 0 else (sinal := ' - ')\n",
        "            print(f'{A}x{sinal}{abs(B)} = {c}')\n",
        "            C = c - abs(b)\n",
        "            B = ''\n",
        "            print(f'{A}x = {B}{C}')\n",
        "            print(f'x = {C}/{a}')\n",
        "            e = C / a\n",
        "            print(f'x = {e}')\n",
        "        elif a == -1:\n",
        "            A = '-'\n",
        "            (sinal := ' + ') if b > 0 else (sinal := ' - ')\n",
        "            print(f'{A}x{sinal}{abs(B)} = {c}')\n",
        "            C = c - abs(b)\n",
        "            B = ''\n",
        "            print(f'{A}x = {B}{C}')\n",
        "            print(f'x = {C}/{a}')\n",
        "            e = C / a\n",
        "            print(f'x = {e}')\n",
        "        else:\n",
        "            if True:\n",
        "                sinal = ' + '\n",
        "                mostra_eq_1o_grau_1(a, b, c)\n",
        "                match sinal:\n",
        "                    case ' + ':\n",
        "                        sinal = ' - '\n",
        "                print(f'{A}x = {C}{sinal}{abs(B)}')\n",
        "                C = c - abs(b)\n",
        "                B = ''\n",
        "                print(f'{A}x = {B}{C}')\n",
        "                print(f'x = {C}/{A}')\n",
        "                e = C / A\n",
        "                print(f'x = {e}')\n",
        "            elif b < 0:\n",
        "                B = abs(b)\n",
        "                sinal = ' - '\n",
        "            else:\n",
        "                sinal = ''\n",
        "                B = ''\n",
        "                print(f'{A}x{sinal}{B} = {c}')\n",
        "                print(f'x = {C}/{A}')\n",
        "                e = C / A\n",
        "                print(f'x = {e}')\n",
        "\n",
        "equacao_1o_grau(a, b, c)"
      ],
      "metadata": {
        "colab": {
          "base_uri": "https://localhost:8080/"
        },
        "id": "U22GoeRknces",
        "outputId": "4d694479-8c52-4152-df19-de3461a5cd96"
      },
      "execution_count": 298,
      "outputs": [
        {
          "output_type": "stream",
          "name": "stdout",
          "text": [
            "Digite um valor para a: 2\n",
            "Digite um valor para a: 2\n",
            "Digite um valor para a: 10\n",
            "2x + 2 = 10\n",
            "2x = 10 - 2\n",
            "2x = 8\n",
            "x = 8/2\n",
            "x = 4.0\n"
          ]
        }
      ]
    },
    {
      "cell_type": "code",
      "source": [
        "def area_circulo(raio):\n",
        "    return pi() * raio ** 2"
      ],
      "metadata": {
        "id": "832NjlT5RtCx"
      },
      "execution_count": 150,
      "outputs": []
    },
    {
      "cell_type": "code",
      "source": [
        "sapato = 1\n",
        "area_circulo(sapato)"
      ],
      "metadata": {
        "colab": {
          "base_uri": "https://localhost:8080/"
        },
        "id": "g598KdcDRtAQ",
        "outputId": "8a3395d2-4ceb-44fb-e6b8-f97ef4866bf9"
      },
      "execution_count": 151,
      "outputs": [
        {
          "output_type": "execute_result",
          "data": {
            "text/plain": [
              "3.14159"
            ]
          },
          "metadata": {},
          "execution_count": 151
        }
      ]
    },
    {
      "cell_type": "code",
      "source": [
        "def mostra_passo_a_passo_eq_1o_grau(a, b, c):\n",
        "    if a != 0:\n",
        "        A, B, C, sinal = mostra_eq_1o_grau(a, b, c)\n",
        "        if sinal:\n",
        "            sinal = ' - ' if sinal == ' + ' else ' + '\n",
        "        print(f'{A}x = {C}{sinal}{B}')\n",
        "        d = c - b\n",
        "        print(f'{A}x = {d}')\n",
        "        print(f'x = {d}/{a}')\n",
        "        e = d / a\n",
        "        print(f'x = {e}')"
      ],
      "metadata": {
        "id": "qHoBajlIRs9o"
      },
      "execution_count": 170,
      "outputs": []
    },
    {
      "cell_type": "code",
      "source": [
        "a, b, c = 2, 16, 14\n",
        "mostra_passo_a_passo_eq_1o_grau(a, b, c)"
      ],
      "metadata": {
        "colab": {
          "base_uri": "https://localhost:8080/"
        },
        "id": "0lqIoTi2Rs7Q",
        "outputId": "6ee89d1a-1d07-4fa7-d18c-84b8927d7bd3"
      },
      "execution_count": 172,
      "outputs": [
        {
          "output_type": "stream",
          "name": "stdout",
          "text": [
            "2x + 16 = 14\n",
            "2x = 14 - 16\n",
            "2x = -2\n",
            "x = -2/2\n",
            "x = -1.0\n"
          ]
        }
      ]
    },
    {
      "cell_type": "code",
      "source": [
        "# dever de casa é pegar o a , o b e o c\n",
        "a = '-12x + 4 = 9'.split()\n",
        "A = a[0]\n",
        "A = A[0:-1]\n",
        "B = a[-3]\n",
        "C = a[-1]\n",
        "print(f'Os valores de A, B e C, respectivamente, são: {A}, {B}, {C}')\n",
        "\n"
      ],
      "metadata": {
        "colab": {
          "base_uri": "https://localhost:8080/"
        },
        "id": "Gh4dnqnuRs4w",
        "outputId": "a1177092-d783-4cea-bbca-9eefa10ae8ea"
      },
      "execution_count": 358,
      "outputs": [
        {
          "output_type": "stream",
          "name": "stdout",
          "text": [
            "Os valores de A, B e C, respectivamente, são: -12, 4, 9\n"
          ]
        }
      ]
    },
    {
      "cell_type": "code",
      "source": [],
      "metadata": {
        "id": "WjzL6GtURs24"
      },
      "execution_count": 337,
      "outputs": []
    },
    {
      "cell_type": "code",
      "source": [],
      "metadata": {
        "id": "wcNvw9S2Rs0Y"
      },
      "execution_count": null,
      "outputs": []
    },
    {
      "cell_type": "code",
      "source": [],
      "metadata": {
        "id": "iivTdjkaRsv3"
      },
      "execution_count": null,
      "outputs": []
    },
    {
      "cell_type": "code",
      "source": [],
      "metadata": {
        "id": "hqozsD6hRstI"
      },
      "execution_count": null,
      "outputs": []
    },
    {
      "cell_type": "code",
      "source": [],
      "metadata": {
        "id": "caPoei275IEm"
      },
      "execution_count": null,
      "outputs": []
    },
    {
      "cell_type": "code",
      "source": [],
      "metadata": {
        "id": "SZonqCWg5IHG"
      },
      "execution_count": null,
      "outputs": []
    }
  ]
}